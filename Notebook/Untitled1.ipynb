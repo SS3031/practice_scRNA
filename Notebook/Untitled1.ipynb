{
 "cells": [
  {
   "cell_type": "code",
   "execution_count": 1,
   "id": "360d7c07-c502-4aad-80ae-c08094a1e766",
   "metadata": {},
   "outputs": [],
   "source": [
    "import scanpy as sc"
   ]
  },
  {
   "cell_type": "code",
   "execution_count": 3,
   "id": "d932767f-16b7-45c0-bf29-3cb9ba874564",
   "metadata": {},
   "outputs": [
    {
     "name": "stdout",
     "output_type": "stream",
     "text": [
      "ID,log2FoldChange,pvalue,padj,mLiverWT1,mLiverWT2,mLiverWT3,mLiverKO1,mLiverKO2,mLiverKO3,Gene.name,,,\n",
      "\n"
     ]
    }
   ],
   "source": [
    "\n",
    "\n",
    "\n",
    "# Open the CSV file and read the first line\n",
    "with open('C:/Users/sophi/Ironhack/Ironhack/Ironhack_prework_Jupyter/practice/data/extracted/GSE263865_Significant-LiverHFD-WT-Mul1-KO-DEGs.csv', 'r') as file:\n",
    "    first_line = file.readline()\n",
    "\n",
    "print(first_line)\n"
   ]
  },
  {
   "cell_type": "code",
   "execution_count": 5,
   "id": "615ab8a4-3c58-402c-a31a-506293057b72",
   "metadata": {},
   "outputs": [
    {
     "name": "stdout",
     "output_type": "stream",
     "text": [
      "ID,log2FoldChange,pvalue,padj,mLiverWT1,mLiverWT2,mLiverWT3,mLiverKO1,mLiverKO2,mLiverKO3,Gene.name,,,\n",
      "\n",
      "ENSMUSG00000024029,7.910586889,2.24E-60,3.45E-56,4.21,8.86,10.62,\"1,630.67\",\"2,755.52\",\"1,318.29\",Tff3,,,\n",
      "\n",
      "ENSMUSG00000029752,4.485178169,3.50E-29,2.70E-25,16.86,22.14,40.02,545.02,567.02,660.46,Asns,,,\n",
      "\n",
      "ENSMUSG00000074254,5.427746899,2.92E-23,1.50E-19,118.84,52.25,46.55,967.3,\"3,765.88\",\"4,633.79\",Cyp2a4,,,\n",
      "\n",
      "ENSMUSG00000037071,-3.551888586,8.02E-22,3.09E-18,\"315,901.22\",\"145,295.35\",\"304,171.09\",\"22,411.52\",\"18,183.97\",\"24,663.76\",Scd1,,,\n",
      "\n"
     ]
    }
   ],
   "source": [
    "# Open the CSV file\n",
    "with open('C:/Users/sophi/Ironhack/Ironhack/Ironhack_prework_Jupyter/practice/data/extracted/GSE263865_Significant-LiverHFD-WT-Mul1-KO-DEGs.csv', 'r') as file:\n",
    "    # Read the first five lines\n",
    "    for i in range(5):\n",
    "        line = file.readline()\n",
    "        print(line)\n"
   ]
  },
  {
   "cell_type": "code",
   "execution_count": 7,
   "id": "e1572990-bf32-49d2-8401-8f4a0677458b",
   "metadata": {},
   "outputs": [],
   "source": [
    "import pandas as pd\n",
    "\n",
    "# Read the CSV file\n",
    "df = pd.read_csv('C:/Users/sophi/Ironhack/Ironhack/Ironhack_prework_Jupyter/practice/data/extracted/GSE263865_Significant-LiverHFD-WT-Mul1-KO-DEGs.csv', delimiter=',')\n",
    "\n",
    "\n"
   ]
  },
  {
   "cell_type": "code",
   "execution_count": 9,
   "id": "a9141ec1-ce8d-459b-8fbd-06a492059265",
   "metadata": {},
   "outputs": [
    {
     "name": "stdout",
     "output_type": "stream",
     "text": [
      "                   ID  log2FoldChange        pvalue          padj   mLiverWT1  \\\n",
      "0  ENSMUSG00000024029        7.910587  2.240000e-60  3.450000e-56        4.21   \n",
      "1  ENSMUSG00000029752        4.485178  3.500000e-29  2.700000e-25       16.86   \n",
      "2  ENSMUSG00000074254        5.427747  2.920000e-23  1.500000e-19      118.84   \n",
      "3  ENSMUSG00000037071       -3.551889  8.020000e-22  3.090000e-18  315,901.22   \n",
      "4  ENSMUSG00000043671       -4.019606  1.960000e-21  6.050000e-18    1,608.95   \n",
      "\n",
      "    mLiverWT2   mLiverWT3  mLiverKO1  mLiverKO2  mLiverKO3 Gene.name  \n",
      "0        8.86       10.62   1,630.67   2,755.52   1,318.29      Tff3  \n",
      "1       22.14       40.02     545.02     567.02     660.46      Asns  \n",
      "2       52.25       46.55      967.3   3,765.88   4,633.79    Cyp2a4  \n",
      "3  145,295.35  304,171.09  22,411.52  18,183.97  24,663.76      Scd1  \n",
      "4      610.17    1,376.91      87.67      58.78      75.53   Dpy19l3  \n"
     ]
    }
   ],
   "source": [
    "\n",
    "# Drop the last three columns\n",
    "df = df.iloc[:, :-3]\n",
    "\n",
    "# Display the modified DataFrame\n",
    "print(df.head())"
   ]
  },
  {
   "cell_type": "code",
   "execution_count": null,
   "id": "5aa50a11-f394-4f7c-be0e-c8a9b7265e0a",
   "metadata": {},
   "outputs": [],
   "source": []
  },
  {
   "cell_type": "code",
   "execution_count": 8,
   "id": "090d046c-cf93-400d-a72b-3c9b9f054011",
   "metadata": {},
   "outputs": [
    {
     "name": "stdout",
     "output_type": "stream",
     "text": [
      "Control.NH227\tTGFÎ².NH227\tTGFÎ²Adropin.NH227\tControl.NH173\tTGFÎ².NH173\tTGFÎ²Adropin.NH173\tControl.NH172\tTGFÎ².NH172\tTGFÎ²Adropin.NH172\tgene_name\n",
      "\n"
     ]
    }
   ],
   "source": [
    "# Open the CSV file and read the first line\n",
    "with open('C:/Users/sophi/Ironhack/Ironhack/Ironhack_prework_Jupyter/practice/data/extracted/GSE252425_minruidata_rawcount.csv', 'r') as file:\n",
    "    first_line = file.readline()\n",
    "\n",
    "print(first_line)\n"
   ]
  },
  {
   "cell_type": "code",
   "execution_count": 15,
   "id": "3a91e3a5-15e1-462a-a699-7dcb121e8a51",
   "metadata": {},
   "outputs": [
    {
     "name": "stdout",
     "output_type": "stream",
     "text": [
      "Control.NH227\tTGFÎ².NH227\tTGFÎ²Adropin.NH227\tControl.NH173\tTGFÎ².NH173\tTGFÎ²Adropin.NH173\tControl.NH172\tTGFÎ².NH172\tTGFÎ²Adropin.NH172\tgene_name\n",
      "\n",
      "ENSG00000223972\t0\t0\t0\t0\t0\t0\t0\t0\t0\tDDX11L1\n",
      "\n",
      "ENSG00000227232\t169\t157\t154\t73\t53\t105\t47\t58\t42\tWASH7P\n",
      "\n",
      "ENSG00000278267\t17\t19\t9\t10\t3\t15\t18\t9\t4\tMIR6859-1\n",
      "\n",
      "ENSG00000243485\t3\t1\t2\t0\t0\t0\t7\t2\t1\tMIR1302-2HG\n",
      "\n"
     ]
    }
   ],
   "source": [
    "# Open the CSV file\n",
    "with open('C:/Users/sophi/Ironhack/Ironhack/Ironhack_prework_Jupyter/practice/data/extracted/GSE252425_minruidata_rawcount.csv', 'r') as file:\n",
    "    # Read the first five lines\n",
    "    for i in range(5):\n",
    "        line = file.readline()\n",
    "        print(line)\n",
    "\n"
   ]
  },
  {
   "cell_type": "code",
   "execution_count": 14,
   "id": "6664f22e-6588-4a9f-a5fd-2b9c3abb0a78",
   "metadata": {},
   "outputs": [
    {
     "ename": "ValueError",
     "evalue": "could not convert string to float: 'DDX11L1'",
     "output_type": "error",
     "traceback": [
      "\u001b[1;31m---------------------------------------------------------------------------\u001b[0m",
      "\u001b[1;31mValueError\u001b[0m                                Traceback (most recent call last)",
      "Cell \u001b[1;32mIn[14], line 4\u001b[0m\n\u001b[0;32m      1\u001b[0m \u001b[38;5;28;01mimport\u001b[39;00m \u001b[38;5;21;01mscanpy\u001b[39;00m \u001b[38;5;28;01mas\u001b[39;00m \u001b[38;5;21;01msc\u001b[39;00m\n\u001b[0;32m      3\u001b[0m \u001b[38;5;66;03m# Read the CSV file with a tab as the delimiter\u001b[39;00m\n\u001b[1;32m----> 4\u001b[0m adata \u001b[38;5;241m=\u001b[39m \u001b[43msc\u001b[49m\u001b[38;5;241;43m.\u001b[39;49m\u001b[43mread_csv\u001b[49m\u001b[43m(\u001b[49m\u001b[38;5;124;43m'\u001b[39;49m\u001b[38;5;124;43mC:/Users/sophi/Ironhack/Ironhack/Ironhack_prework_Jupyter/practice/data/extracted/GSE252425_minruidata_rawcount.csv\u001b[39;49m\u001b[38;5;124;43m'\u001b[39;49m\u001b[43m,\u001b[49m\u001b[43m \u001b[49m\u001b[43mdelimiter\u001b[49m\u001b[38;5;241;43m=\u001b[39;49m\u001b[38;5;124;43m'\u001b[39;49m\u001b[38;5;130;43;01m\\t\u001b[39;49;00m\u001b[38;5;124;43m'\u001b[39;49m\u001b[43m)\u001b[49m\u001b[38;5;241m.\u001b[39mT\n\u001b[0;32m      6\u001b[0m \u001b[38;5;66;03m# Display the data\u001b[39;00m\n\u001b[0;32m      7\u001b[0m \u001b[38;5;28mprint\u001b[39m(adata)\n",
      "File \u001b[1;32m~\\Ironhack\\Ironhack\\Ironhack_prework_Jupyter\\practice\\practice_venv\\Lib\\site-packages\\anndata\\_io\\read.py:57\u001b[0m, in \u001b[0;36mread_csv\u001b[1;34m(filename, delimiter, first_column_names, dtype)\u001b[0m\n\u001b[0;32m     33\u001b[0m \u001b[38;5;28;01mdef\u001b[39;00m \u001b[38;5;21mread_csv\u001b[39m(\n\u001b[0;32m     34\u001b[0m     filename: PathLike \u001b[38;5;241m|\u001b[39m Iterator[\u001b[38;5;28mstr\u001b[39m],\n\u001b[0;32m     35\u001b[0m     delimiter: \u001b[38;5;28mstr\u001b[39m \u001b[38;5;241m|\u001b[39m \u001b[38;5;28;01mNone\u001b[39;00m \u001b[38;5;241m=\u001b[39m \u001b[38;5;124m\"\u001b[39m\u001b[38;5;124m,\u001b[39m\u001b[38;5;124m\"\u001b[39m,\n\u001b[0;32m     36\u001b[0m     first_column_names: \u001b[38;5;28mbool\u001b[39m \u001b[38;5;241m|\u001b[39m \u001b[38;5;28;01mNone\u001b[39;00m \u001b[38;5;241m=\u001b[39m \u001b[38;5;28;01mNone\u001b[39;00m,\n\u001b[0;32m     37\u001b[0m     dtype: \u001b[38;5;28mstr\u001b[39m \u001b[38;5;241m=\u001b[39m \u001b[38;5;124m\"\u001b[39m\u001b[38;5;124mfloat32\u001b[39m\u001b[38;5;124m\"\u001b[39m,\n\u001b[0;32m     38\u001b[0m ) \u001b[38;5;241m-\u001b[39m\u001b[38;5;241m>\u001b[39m AnnData:\n\u001b[0;32m     39\u001b[0m \u001b[38;5;250m    \u001b[39m\u001b[38;5;124;03m\"\"\"\\\u001b[39;00m\n\u001b[0;32m     40\u001b[0m \u001b[38;5;124;03m    Read `.csv` file.\u001b[39;00m\n\u001b[0;32m     41\u001b[0m \n\u001b[1;32m   (...)\u001b[0m\n\u001b[0;32m     55\u001b[0m \u001b[38;5;124;03m        Numpy data type.\u001b[39;00m\n\u001b[0;32m     56\u001b[0m \u001b[38;5;124;03m    \"\"\"\u001b[39;00m\n\u001b[1;32m---> 57\u001b[0m     \u001b[38;5;28;01mreturn\u001b[39;00m \u001b[43mread_text\u001b[49m\u001b[43m(\u001b[49m\u001b[43mfilename\u001b[49m\u001b[43m,\u001b[49m\u001b[43m \u001b[49m\u001b[43mdelimiter\u001b[49m\u001b[43m,\u001b[49m\u001b[43m \u001b[49m\u001b[43mfirst_column_names\u001b[49m\u001b[43m,\u001b[49m\u001b[43m \u001b[49m\u001b[43mdtype\u001b[49m\u001b[43m)\u001b[49m\n",
      "File \u001b[1;32m~\\Ironhack\\Ironhack\\Ironhack_prework_Jupyter\\practice\\practice_venv\\Lib\\site-packages\\anndata\\_io\\read.py:360\u001b[0m, in \u001b[0;36mread_text\u001b[1;34m(filename, delimiter, first_column_names, dtype)\u001b[0m\n\u001b[0;32m    358\u001b[0m \u001b[38;5;28;01melse\u001b[39;00m:\n\u001b[0;32m    359\u001b[0m     \u001b[38;5;28;01mwith\u001b[39;00m filename\u001b[38;5;241m.\u001b[39mopen() \u001b[38;5;28;01mas\u001b[39;00m f:\n\u001b[1;32m--> 360\u001b[0m         \u001b[38;5;28;01mreturn\u001b[39;00m \u001b[43m_read_text\u001b[49m\u001b[43m(\u001b[49m\u001b[43mf\u001b[49m\u001b[43m,\u001b[49m\u001b[43m \u001b[49m\u001b[43mdelimiter\u001b[49m\u001b[43m,\u001b[49m\u001b[43m \u001b[49m\u001b[43mfirst_column_names\u001b[49m\u001b[43m,\u001b[49m\u001b[43m \u001b[49m\u001b[43mdtype\u001b[49m\u001b[43m)\u001b[49m\n",
      "File \u001b[1;32m~\\Ironhack\\Ironhack\\Ironhack_prework_Jupyter\\practice\\practice_venv\\Lib\\site-packages\\anndata\\_io\\read.py:423\u001b[0m, in \u001b[0;36m_read_text\u001b[1;34m(f, delimiter, first_column_names, dtype)\u001b[0m\n\u001b[0;32m    421\u001b[0m     first_column_names \u001b[38;5;241m=\u001b[39m \u001b[38;5;28;01mTrue\u001b[39;00m\n\u001b[0;32m    422\u001b[0m     row_names\u001b[38;5;241m.\u001b[39mappend(line_list[\u001b[38;5;241m0\u001b[39m])\n\u001b[1;32m--> 423\u001b[0m     data\u001b[38;5;241m.\u001b[39mappend(\u001b[43mnp\u001b[49m\u001b[38;5;241;43m.\u001b[39;49m\u001b[43marray\u001b[49m\u001b[43m(\u001b[49m\u001b[43mline_list\u001b[49m\u001b[43m[\u001b[49m\u001b[38;5;241;43m1\u001b[39;49m\u001b[43m:\u001b[49m\u001b[43m]\u001b[49m\u001b[43m,\u001b[49m\u001b[43m \u001b[49m\u001b[43mdtype\u001b[49m\u001b[38;5;241;43m=\u001b[39;49m\u001b[43mdtype\u001b[49m\u001b[43m)\u001b[49m)\n\u001b[0;32m    424\u001b[0m \u001b[38;5;28;01melse\u001b[39;00m:\n\u001b[0;32m    425\u001b[0m     data\u001b[38;5;241m.\u001b[39mappend(np\u001b[38;5;241m.\u001b[39marray(line_list, dtype\u001b[38;5;241m=\u001b[39mdtype))\n",
      "\u001b[1;31mValueError\u001b[0m: could not convert string to float: 'DDX11L1'"
     ]
    }
   ],
   "source": [
    "import scanpy as sc\n",
    "\n",
    "# Read the CSV file with a tab as the delimiter\n",
    "adata = sc.read_csv('C:/Users/sophi/Ironhack/Ironhack/Ironhack_prework_Jupyter/practice/data/extracted/GSE252425_minruidata_rawcount.csv', delimiter='\\t').T\n",
    "\n",
    "# Display the data\n",
    "print(adata)\n"
   ]
  },
  {
   "cell_type": "code",
   "execution_count": 17,
   "id": "c50cc4f2-ff5b-4645-b384-d7adf7353765",
   "metadata": {},
   "outputs": [
    {
     "name": "stdout",
     "output_type": "stream",
     "text": [
      "AnnData object with n_obs × n_vars = 10 × 58735\n"
     ]
    }
   ],
   "source": [
    "import scanpy as sc\n",
    "\n",
    "# Read the CSV file, treating all data as strings\n",
    "adata = sc.read_csv('C:/Users/sophi/Ironhack/Ironhack/Ironhack_prework_Jupyter/practice/data/extracted/GSE252425_minruidata_rawcount.csv', delimiter='\\t', first_column_names=False, dtype=None).T\n",
    "\n",
    "# Display the data\n",
    "print(adata)\n"
   ]
  },
  {
   "cell_type": "code",
   "execution_count": 18,
   "id": "123e3024-35e4-40b5-91de-f148b61de28c",
   "metadata": {},
   "outputs": [
    {
     "name": "stdout",
     "output_type": "stream",
     "text": [
      "First few rows of observations:\n",
      "Empty DataFrame\n",
      "Columns: []\n",
      "Index: [Control.NH227, TGFÎ².NH227, TGFÎ²Adropin.NH227, Control.NH173, TGFÎ².NH173]\n",
      "\n",
      "First few rows of variables:\n",
      "Empty DataFrame\n",
      "Columns: []\n",
      "Index: [ENSG00000223972, ENSG00000227232, ENSG00000278267, ENSG00000243485, ENSG00000284332]\n"
     ]
    }
   ],
   "source": [
    "# View the first few rows of observations\n",
    "print(\"First few rows of observations:\")\n",
    "print(adata.obs.head())\n",
    "\n",
    "# View the first few rows of variables\n",
    "print(\"\\nFirst few rows of variables:\")\n",
    "print(adata.var.head())"
   ]
  },
  {
   "cell_type": "code",
   "execution_count": null,
   "id": "58c7b167-29ed-413f-b635-3dfb00bcbeb2",
   "metadata": {},
   "outputs": [],
   "source": []
  }
 ],
 "metadata": {
  "kernelspec": {
   "display_name": "practice_venv",
   "language": "python",
   "name": "practice_venv"
  },
  "language_info": {
   "codemirror_mode": {
    "name": "ipython",
    "version": 3
   },
   "file_extension": ".py",
   "mimetype": "text/x-python",
   "name": "python",
   "nbconvert_exporter": "python",
   "pygments_lexer": "ipython3",
   "version": "3.11.5"
  }
 },
 "nbformat": 4,
 "nbformat_minor": 5
}
