{
 "cells": [
  {
   "cell_type": "code",
   "execution_count": 1,
   "id": "360d7c07-c502-4aad-80ae-c08094a1e766",
   "metadata": {},
   "outputs": [],
   "source": [
    "import scanpy as sc"
   ]
  },
  {
   "cell_type": "code",
   "execution_count": 3,
   "id": "d932767f-16b7-45c0-bf29-3cb9ba874564",
   "metadata": {},
   "outputs": [
    {
     "name": "stdout",
     "output_type": "stream",
     "text": [
      "ID,log2FoldChange,pvalue,padj,mLiverWT1,mLiverWT2,mLiverWT3,mLiverKO1,mLiverKO2,mLiverKO3,Gene.name,,,\n",
      "\n"
     ]
    }
   ],
   "source": [
    "\n",
    "\n",
    "\n",
    "# Open the CSV file and read the first line\n",
    "with open('C:/Users/sophi/Ironhack/Ironhack/Ironhack_prework_Jupyter/practice/data/extracted/GSE263865_Significant-LiverHFD-WT-Mul1-KO-DEGs.csv', 'r') as file:\n",
    "    first_line = file.readline()\n",
    "\n",
    "print(first_line)\n"
   ]
  },
  {
   "cell_type": "code",
   "execution_count": 5,
   "id": "615ab8a4-3c58-402c-a31a-506293057b72",
   "metadata": {},
   "outputs": [
    {
     "name": "stdout",
     "output_type": "stream",
     "text": [
      "ID,log2FoldChange,pvalue,padj,mLiverWT1,mLiverWT2,mLiverWT3,mLiverKO1,mLiverKO2,mLiverKO3,Gene.name,,,\n",
      "\n",
      "ENSMUSG00000024029,7.910586889,2.24E-60,3.45E-56,4.21,8.86,10.62,\"1,630.67\",\"2,755.52\",\"1,318.29\",Tff3,,,\n",
      "\n",
      "ENSMUSG00000029752,4.485178169,3.50E-29,2.70E-25,16.86,22.14,40.02,545.02,567.02,660.46,Asns,,,\n",
      "\n",
      "ENSMUSG00000074254,5.427746899,2.92E-23,1.50E-19,118.84,52.25,46.55,967.3,\"3,765.88\",\"4,633.79\",Cyp2a4,,,\n",
      "\n",
      "ENSMUSG00000037071,-3.551888586,8.02E-22,3.09E-18,\"315,901.22\",\"145,295.35\",\"304,171.09\",\"22,411.52\",\"18,183.97\",\"24,663.76\",Scd1,,,\n",
      "\n"
     ]
    }
   ],
   "source": [
    "# Open the CSV file\n",
    "with open('C:/Users/sophi/Ironhack/Ironhack/Ironhack_prework_Jupyter/practice/data/extracted/GSE263865_Significant-LiverHFD-WT-Mul1-KO-DEGs.csv', 'r') as file:\n",
    "    # Read the first five lines\n",
    "    for i in range(5):\n",
    "        line = file.readline()\n",
    "        print(line)\n"
   ]
  },
  {
   "cell_type": "code",
   "execution_count": 7,
   "id": "e1572990-bf32-49d2-8401-8f4a0677458b",
   "metadata": {},
   "outputs": [],
   "source": [
    "import pandas as pd\n",
    "\n",
    "# Read the CSV file\n",
    "df = pd.read_csv('C:/Users/sophi/Ironhack/Ironhack/Ironhack_prework_Jupyter/practice/data/extracted/GSE263865_Significant-LiverHFD-WT-Mul1-KO-DEGs.csv', delimiter=',')\n",
    "\n",
    "\n"
   ]
  },
  {
   "cell_type": "code",
   "execution_count": 9,
   "id": "a9141ec1-ce8d-459b-8fbd-06a492059265",
   "metadata": {},
   "outputs": [
    {
     "name": "stdout",
     "output_type": "stream",
     "text": [
      "                   ID  log2FoldChange        pvalue          padj   mLiverWT1  \\\n",
      "0  ENSMUSG00000024029        7.910587  2.240000e-60  3.450000e-56        4.21   \n",
      "1  ENSMUSG00000029752        4.485178  3.500000e-29  2.700000e-25       16.86   \n",
      "2  ENSMUSG00000074254        5.427747  2.920000e-23  1.500000e-19      118.84   \n",
      "3  ENSMUSG00000037071       -3.551889  8.020000e-22  3.090000e-18  315,901.22   \n",
      "4  ENSMUSG00000043671       -4.019606  1.960000e-21  6.050000e-18    1,608.95   \n",
      "\n",
      "    mLiverWT2   mLiverWT3  mLiverKO1  mLiverKO2  mLiverKO3 Gene.name  \n",
      "0        8.86       10.62   1,630.67   2,755.52   1,318.29      Tff3  \n",
      "1       22.14       40.02     545.02     567.02     660.46      Asns  \n",
      "2       52.25       46.55      967.3   3,765.88   4,633.79    Cyp2a4  \n",
      "3  145,295.35  304,171.09  22,411.52  18,183.97  24,663.76      Scd1  \n",
      "4      610.17    1,376.91      87.67      58.78      75.53   Dpy19l3  \n"
     ]
    }
   ],
   "source": [
    "\n",
    "# Drop the last three columns\n",
    "df = df.iloc[:, :-3]\n",
    "\n",
    "# Display the modified DataFrame\n",
    "print(df.head())"
   ]
  },
  {
   "cell_type": "code",
   "execution_count": null,
   "id": "5aa50a11-f394-4f7c-be0e-c8a9b7265e0a",
   "metadata": {},
   "outputs": [],
   "source": []
  },
  {
   "cell_type": "code",
   "execution_count": null,
   "id": "090d046c-cf93-400d-a72b-3c9b9f054011",
   "metadata": {},
   "outputs": [],
   "source": [
    "\n"
   ]
  },
  {
   "cell_type": "code",
   "execution_count": null,
   "id": "3a91e3a5-15e1-462a-a699-7dcb121e8a51",
   "metadata": {},
   "outputs": [],
   "source": [
    "\n",
    "\n"
   ]
  },
  {
   "cell_type": "code",
   "execution_count": null,
   "id": "6664f22e-6588-4a9f-a5fd-2b9c3abb0a78",
   "metadata": {},
   "outputs": [],
   "source": [
    "\n"
   ]
  },
  {
   "cell_type": "code",
   "execution_count": 17,
   "id": "c50cc4f2-ff5b-4645-b384-d7adf7353765",
   "metadata": {},
   "outputs": [
    {
     "name": "stdout",
     "output_type": "stream",
     "text": [
      "AnnData object with n_obs × n_vars = 10 × 58735\n"
     ]
    }
   ],
   "source": [
    "\n"
   ]
  },
  {
   "cell_type": "code",
   "execution_count": null,
   "id": "123e3024-35e4-40b5-91de-f148b61de28c",
   "metadata": {},
   "outputs": [],
   "source": []
  },
  {
   "cell_type": "code",
   "execution_count": null,
   "id": "58c7b167-29ed-413f-b635-3dfb00bcbeb2",
   "metadata": {},
   "outputs": [],
   "source": []
  }
 ],
 "metadata": {
  "kernelspec": {
   "display_name": "practice_venv",
   "language": "python",
   "name": "practice_venv"
  },
  "language_info": {
   "codemirror_mode": {
    "name": "ipython",
    "version": 3
   },
   "file_extension": ".py",
   "mimetype": "text/x-python",
   "name": "python",
   "nbconvert_exporter": "python",
   "pygments_lexer": "ipython3",
   "version": "3.11.5"
  }
 },
 "nbformat": 4,
 "nbformat_minor": 5
}
