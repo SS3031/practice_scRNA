{
 "cells": [
  {
   "cell_type": "code",
   "execution_count": 1,
   "id": "2f34a1ed-e83d-43f3-8d38-07263b879ad3",
   "metadata": {},
   "outputs": [],
   "source": [
    "import scanpy as sc"
   ]
  },
  {
   "cell_type": "code",
   "execution_count": 2,
   "id": "4bdf6c2c-7132-424b-9d93-606c0cb454bb",
   "metadata": {},
   "outputs": [
    {
     "data": {
      "text/plain": [
       "AnnData object with n_obs × n_vars = 6099 × 34546"
      ]
     },
     "execution_count": 2,
     "metadata": {},
     "output_type": "execute_result"
    }
   ],
   "source": [
    "adata = sc.read_csv('C:/Users/sophi/Ironhack/Ironhack/Ironhack_prework_Jupyter/practice/data/extracted/GSM5226574_C51ctr_raw_counts.csv').T\n",
    "adata\n"
   ]
  },
  {
   "cell_type": "code",
   "execution_count": 3,
   "id": "d0ba4dfb-81f0-4174-acf2-aaec5bc816b6",
   "metadata": {},
   "outputs": [
    {
     "data": {
      "text/plain": [
       "(6099, 34546)"
      ]
     },
     "execution_count": 3,
     "metadata": {},
     "output_type": "execute_result"
    }
   ],
   "source": [
    "adata.X.shape"
   ]
  },
  {
   "cell_type": "markdown",
   "id": "fcdb482a-9699-439a-a701-08c8ded44685",
   "metadata": {},
   "source": [
    "## Removing doublets from the dataset "
   ]
  },
  {
   "cell_type": "code",
   "execution_count": 4,
   "id": "0f1c0b3a-ee4f-4757-ab55-c7b1d8b2b1d2",
   "metadata": {},
   "outputs": [
    {
     "name": "stdout",
     "output_type": "stream",
     "text": [
      "Requirement already satisfied: scvi-tools in c:\\users\\sophi\\ironhack\\ironhack\\ironhack_prework_jupyter\\practice\\practice_venv\\lib\\site-packages (1.1.2)Note: you may need to restart the kernel to use updated packages.\n",
      "\n",
      "Requirement already satisfied: anndata>=0.7.5 in c:\\users\\sophi\\ironhack\\ironhack\\ironhack_prework_jupyter\\practice\\practice_venv\\lib\\site-packages (from scvi-tools) (0.10.7)\n",
      "Requirement already satisfied: docrep>=0.3.2 in c:\\users\\sophi\\ironhack\\ironhack\\ironhack_prework_jupyter\\practice\\practice_venv\\lib\\site-packages (from scvi-tools) (0.3.2)\n",
      "Requirement already satisfied: flax in c:\\users\\sophi\\ironhack\\ironhack\\ironhack_prework_jupyter\\practice\\practice_venv\\lib\\site-packages (from scvi-tools) (0.8.3)\n",
      "Requirement already satisfied: h5py>=2.9.0 in c:\\users\\sophi\\ironhack\\ironhack\\ironhack_prework_jupyter\\practice\\practice_venv\\lib\\site-packages (from scvi-tools) (3.11.0)\n",
      "Requirement already satisfied: jax>=0.4.4 in c:\\users\\sophi\\ironhack\\ironhack\\ironhack_prework_jupyter\\practice\\practice_venv\\lib\\site-packages (from scvi-tools) (0.4.26)\n",
      "Requirement already satisfied: jaxlib>=0.4.3 in c:\\users\\sophi\\ironhack\\ironhack\\ironhack_prework_jupyter\\practice\\practice_venv\\lib\\site-packages (from scvi-tools) (0.4.26)\n",
      "Requirement already satisfied: lightning<2.2,>=2.0 in c:\\users\\sophi\\ironhack\\ironhack\\ironhack_prework_jupyter\\practice\\practice_venv\\lib\\site-packages (from scvi-tools) (2.1.4)\n",
      "Requirement already satisfied: ml-collections>=0.1.1 in c:\\users\\sophi\\ironhack\\ironhack\\ironhack_prework_jupyter\\practice\\practice_venv\\lib\\site-packages (from scvi-tools) (0.1.1)\n",
      "Requirement already satisfied: mudata>=0.1.2 in c:\\users\\sophi\\ironhack\\ironhack\\ironhack_prework_jupyter\\practice\\practice_venv\\lib\\site-packages (from scvi-tools) (0.2.3)\n",
      "Requirement already satisfied: numpy>=1.21.0 in c:\\users\\sophi\\ironhack\\ironhack\\ironhack_prework_jupyter\\practice\\practice_venv\\lib\\site-packages (from scvi-tools) (1.26.4)\n",
      "Requirement already satisfied: numpyro>=0.12.1 in c:\\users\\sophi\\ironhack\\ironhack\\ironhack_prework_jupyter\\practice\\practice_venv\\lib\\site-packages (from scvi-tools) (0.14.0)\n",
      "Requirement already satisfied: optax in c:\\users\\sophi\\ironhack\\ironhack\\ironhack_prework_jupyter\\practice\\practice_venv\\lib\\site-packages (from scvi-tools) (0.2.2)\n",
      "Requirement already satisfied: pandas>=1.0 in c:\\users\\sophi\\ironhack\\ironhack\\ironhack_prework_jupyter\\practice\\practice_venv\\lib\\site-packages (from scvi-tools) (2.2.2)\n",
      "Requirement already satisfied: pyro-ppl>=1.6.0 in c:\\users\\sophi\\ironhack\\ironhack\\ironhack_prework_jupyter\\practice\\practice_venv\\lib\\site-packages (from scvi-tools) (1.9.0)\n",
      "Requirement already satisfied: rich>=12.0.0 in c:\\users\\sophi\\ironhack\\ironhack\\ironhack_prework_jupyter\\practice\\practice_venv\\lib\\site-packages (from scvi-tools) (13.7.1)\n",
      "Requirement already satisfied: scikit-learn>=0.21.2 in c:\\users\\sophi\\ironhack\\ironhack\\ironhack_prework_jupyter\\practice\\practice_venv\\lib\\site-packages (from scvi-tools) (1.4.2)\n",
      "Requirement already satisfied: scipy in c:\\users\\sophi\\ironhack\\ironhack\\ironhack_prework_jupyter\\practice\\practice_venv\\lib\\site-packages (from scvi-tools) (1.13.0)\n",
      "Requirement already satisfied: torch>=1.8.0 in c:\\users\\sophi\\ironhack\\ironhack\\ironhack_prework_jupyter\\practice\\practice_venv\\lib\\site-packages (from scvi-tools) (2.3.0)\n",
      "Requirement already satisfied: torchmetrics>=0.11.0 in c:\\users\\sophi\\ironhack\\ironhack\\ironhack_prework_jupyter\\practice\\practice_venv\\lib\\site-packages (from scvi-tools) (1.3.2)\n",
      "Requirement already satisfied: tqdm>=4.56.0 in c:\\users\\sophi\\ironhack\\ironhack\\ironhack_prework_jupyter\\practice\\practice_venv\\lib\\site-packages (from scvi-tools) (4.66.2)\n",
      "Requirement already satisfied: array-api-compat!=1.5,>1.4 in c:\\users\\sophi\\ironhack\\ironhack\\ironhack_prework_jupyter\\practice\\practice_venv\\lib\\site-packages (from anndata>=0.7.5->scvi-tools) (1.6)\n",
      "Requirement already satisfied: natsort in c:\\users\\sophi\\ironhack\\ironhack\\ironhack_prework_jupyter\\practice\\practice_venv\\lib\\site-packages (from anndata>=0.7.5->scvi-tools) (8.4.0)\n",
      "Requirement already satisfied: packaging>=20.0 in c:\\users\\sophi\\ironhack\\ironhack\\ironhack_prework_jupyter\\practice\\practice_venv\\lib\\site-packages (from anndata>=0.7.5->scvi-tools) (24.0)\n",
      "Requirement already satisfied: six in c:\\users\\sophi\\ironhack\\ironhack\\ironhack_prework_jupyter\\practice\\practice_venv\\lib\\site-packages (from docrep>=0.3.2->scvi-tools) (1.16.0)\n",
      "Requirement already satisfied: ml-dtypes>=0.2.0 in c:\\users\\sophi\\ironhack\\ironhack\\ironhack_prework_jupyter\\practice\\practice_venv\\lib\\site-packages (from jax>=0.4.4->scvi-tools) (0.4.0)\n",
      "Requirement already satisfied: opt-einsum in c:\\users\\sophi\\ironhack\\ironhack\\ironhack_prework_jupyter\\practice\\practice_venv\\lib\\site-packages (from jax>=0.4.4->scvi-tools) (3.3.0)\n",
      "Requirement already satisfied: PyYAML<8.0,>=5.4 in c:\\users\\sophi\\ironhack\\ironhack\\ironhack_prework_jupyter\\practice\\practice_venv\\lib\\site-packages (from lightning<2.2,>=2.0->scvi-tools) (6.0.1)\n",
      "Requirement already satisfied: fsspec<2025.0,>=2022.5.0 in c:\\users\\sophi\\ironhack\\ironhack\\ironhack_prework_jupyter\\practice\\practice_venv\\lib\\site-packages (from fsspec[http]<2025.0,>=2022.5.0->lightning<2.2,>=2.0->scvi-tools) (2024.3.1)\n",
      "Requirement already satisfied: lightning-utilities<2.0,>=0.8.0 in c:\\users\\sophi\\ironhack\\ironhack\\ironhack_prework_jupyter\\practice\\practice_venv\\lib\\site-packages (from lightning<2.2,>=2.0->scvi-tools) (0.11.2)\n",
      "Requirement already satisfied: typing-extensions<6.0,>=4.0.0 in c:\\users\\sophi\\ironhack\\ironhack\\ironhack_prework_jupyter\\practice\\practice_venv\\lib\\site-packages (from lightning<2.2,>=2.0->scvi-tools) (4.11.0)\n",
      "Requirement already satisfied: pytorch-lightning in c:\\users\\sophi\\ironhack\\ironhack\\ironhack_prework_jupyter\\practice\\practice_venv\\lib\\site-packages (from lightning<2.2,>=2.0->scvi-tools) (2.2.4)\n",
      "Requirement already satisfied: absl-py in c:\\users\\sophi\\ironhack\\ironhack\\ironhack_prework_jupyter\\practice\\practice_venv\\lib\\site-packages (from ml-collections>=0.1.1->scvi-tools) (2.1.0)\n",
      "Requirement already satisfied: contextlib2 in c:\\users\\sophi\\ironhack\\ironhack\\ironhack_prework_jupyter\\practice\\practice_venv\\lib\\site-packages (from ml-collections>=0.1.1->scvi-tools) (21.6.0)\n",
      "Requirement already satisfied: multipledispatch in c:\\users\\sophi\\ironhack\\ironhack\\ironhack_prework_jupyter\\practice\\practice_venv\\lib\\site-packages (from numpyro>=0.12.1->scvi-tools) (1.0.0)\n",
      "Requirement already satisfied: python-dateutil>=2.8.2 in c:\\users\\sophi\\ironhack\\ironhack\\ironhack_prework_jupyter\\practice\\practice_venv\\lib\\site-packages (from pandas>=1.0->scvi-tools) (2.9.0.post0)\n",
      "Requirement already satisfied: pytz>=2020.1 in c:\\users\\sophi\\ironhack\\ironhack\\ironhack_prework_jupyter\\practice\\practice_venv\\lib\\site-packages (from pandas>=1.0->scvi-tools) (2024.1)\n",
      "Requirement already satisfied: tzdata>=2022.7 in c:\\users\\sophi\\ironhack\\ironhack\\ironhack_prework_jupyter\\practice\\practice_venv\\lib\\site-packages (from pandas>=1.0->scvi-tools) (2024.1)\n",
      "Requirement already satisfied: pyro-api>=0.1.1 in c:\\users\\sophi\\ironhack\\ironhack\\ironhack_prework_jupyter\\practice\\practice_venv\\lib\\site-packages (from pyro-ppl>=1.6.0->scvi-tools) (0.1.2)\n",
      "Requirement already satisfied: markdown-it-py>=2.2.0 in c:\\users\\sophi\\ironhack\\ironhack\\ironhack_prework_jupyter\\practice\\practice_venv\\lib\\site-packages (from rich>=12.0.0->scvi-tools) (3.0.0)\n",
      "Requirement already satisfied: pygments<3.0.0,>=2.13.0 in c:\\users\\sophi\\ironhack\\ironhack\\ironhack_prework_jupyter\\practice\\practice_venv\\lib\\site-packages (from rich>=12.0.0->scvi-tools) (2.17.2)\n",
      "Requirement already satisfied: joblib>=1.2.0 in c:\\users\\sophi\\ironhack\\ironhack\\ironhack_prework_jupyter\\practice\\practice_venv\\lib\\site-packages (from scikit-learn>=0.21.2->scvi-tools) (1.4.0)\n",
      "Requirement already satisfied: threadpoolctl>=2.0.0 in c:\\users\\sophi\\ironhack\\ironhack\\ironhack_prework_jupyter\\practice\\practice_venv\\lib\\site-packages (from scikit-learn>=0.21.2->scvi-tools) (3.5.0)\n",
      "Requirement already satisfied: filelock in c:\\users\\sophi\\ironhack\\ironhack\\ironhack_prework_jupyter\\practice\\practice_venv\\lib\\site-packages (from torch>=1.8.0->scvi-tools) (3.14.0)\n",
      "Requirement already satisfied: sympy in c:\\users\\sophi\\ironhack\\ironhack\\ironhack_prework_jupyter\\practice\\practice_venv\\lib\\site-packages (from torch>=1.8.0->scvi-tools) (1.12)\n",
      "Requirement already satisfied: networkx in c:\\users\\sophi\\ironhack\\ironhack\\ironhack_prework_jupyter\\practice\\practice_venv\\lib\\site-packages (from torch>=1.8.0->scvi-tools) (3.3)\n",
      "Requirement already satisfied: jinja2 in c:\\users\\sophi\\ironhack\\ironhack\\ironhack_prework_jupyter\\practice\\practice_venv\\lib\\site-packages (from torch>=1.8.0->scvi-tools) (3.1.3)\n",
      "Requirement already satisfied: mkl<=2021.4.0,>=2021.1.1 in c:\\users\\sophi\\ironhack\\ironhack\\ironhack_prework_jupyter\\practice\\practice_venv\\lib\\site-packages (from torch>=1.8.0->scvi-tools) (2021.4.0)\n",
      "Requirement already satisfied: colorama in c:\\users\\sophi\\ironhack\\ironhack\\ironhack_prework_jupyter\\practice\\practice_venv\\lib\\site-packages (from tqdm>=4.56.0->scvi-tools) (0.4.6)\n",
      "Requirement already satisfied: msgpack in c:\\users\\sophi\\ironhack\\ironhack\\ironhack_prework_jupyter\\practice\\practice_venv\\lib\\site-packages (from flax->scvi-tools) (1.0.8)\n",
      "Requirement already satisfied: orbax-checkpoint in c:\\users\\sophi\\ironhack\\ironhack\\ironhack_prework_jupyter\\practice\\practice_venv\\lib\\site-packages (from flax->scvi-tools) (0.5.10)\n",
      "Requirement already satisfied: tensorstore in c:\\users\\sophi\\ironhack\\ironhack\\ironhack_prework_jupyter\\practice\\practice_venv\\lib\\site-packages (from flax->scvi-tools) (0.1.58)\n",
      "Requirement already satisfied: chex>=0.1.86 in c:\\users\\sophi\\ironhack\\ironhack\\ironhack_prework_jupyter\\practice\\practice_venv\\lib\\site-packages (from optax->scvi-tools) (0.1.86)\n",
      "Requirement already satisfied: toolz>=0.9.0 in c:\\users\\sophi\\ironhack\\ironhack\\ironhack_prework_jupyter\\practice\\practice_venv\\lib\\site-packages (from chex>=0.1.86->optax->scvi-tools) (0.12.1)\n",
      "Requirement already satisfied: aiohttp!=4.0.0a0,!=4.0.0a1 in c:\\users\\sophi\\ironhack\\ironhack\\ironhack_prework_jupyter\\practice\\practice_venv\\lib\\site-packages (from fsspec[http]<2025.0,>=2022.5.0->lightning<2.2,>=2.0->scvi-tools) (3.9.5)\n",
      "Requirement already satisfied: setuptools in c:\\users\\sophi\\ironhack\\ironhack\\ironhack_prework_jupyter\\practice\\practice_venv\\lib\\site-packages (from lightning-utilities<2.0,>=0.8.0->lightning<2.2,>=2.0->scvi-tools) (65.5.0)\n",
      "Requirement already satisfied: mdurl~=0.1 in c:\\users\\sophi\\ironhack\\ironhack\\ironhack_prework_jupyter\\practice\\practice_venv\\lib\\site-packages (from markdown-it-py>=2.2.0->rich>=12.0.0->scvi-tools) (0.1.2)\n",
      "Requirement already satisfied: intel-openmp==2021.* in c:\\users\\sophi\\ironhack\\ironhack\\ironhack_prework_jupyter\\practice\\practice_venv\\lib\\site-packages (from mkl<=2021.4.0,>=2021.1.1->torch>=1.8.0->scvi-tools) (2021.4.0)\n",
      "Requirement already satisfied: tbb==2021.* in c:\\users\\sophi\\ironhack\\ironhack\\ironhack_prework_jupyter\\practice\\practice_venv\\lib\\site-packages (from mkl<=2021.4.0,>=2021.1.1->torch>=1.8.0->scvi-tools) (2021.12.0)\n",
      "Requirement already satisfied: MarkupSafe>=2.0 in c:\\users\\sophi\\ironhack\\ironhack\\ironhack_prework_jupyter\\practice\\practice_venv\\lib\\site-packages (from jinja2->torch>=1.8.0->scvi-tools) (2.1.5)\n",
      "Requirement already satisfied: etils[epath,epy] in c:\\users\\sophi\\ironhack\\ironhack\\ironhack_prework_jupyter\\practice\\practice_venv\\lib\\site-packages (from orbax-checkpoint->flax->scvi-tools) (1.8.0)\n",
      "Requirement already satisfied: nest_asyncio in c:\\users\\sophi\\ironhack\\ironhack\\ironhack_prework_jupyter\\practice\\practice_venv\\lib\\site-packages (from orbax-checkpoint->flax->scvi-tools) (1.6.0)\n",
      "Requirement already satisfied: protobuf in c:\\users\\sophi\\ironhack\\ironhack\\ironhack_prework_jupyter\\practice\\practice_venv\\lib\\site-packages (from orbax-checkpoint->flax->scvi-tools) (5.26.1)\n",
      "Requirement already satisfied: mpmath>=0.19 in c:\\users\\sophi\\ironhack\\ironhack\\ironhack_prework_jupyter\\practice\\practice_venv\\lib\\site-packages (from sympy->torch>=1.8.0->scvi-tools) (1.3.0)\n",
      "Requirement already satisfied: aiosignal>=1.1.2 in c:\\users\\sophi\\ironhack\\ironhack\\ironhack_prework_jupyter\\practice\\practice_venv\\lib\\site-packages (from aiohttp!=4.0.0a0,!=4.0.0a1->fsspec[http]<2025.0,>=2022.5.0->lightning<2.2,>=2.0->scvi-tools) (1.3.1)\n",
      "Requirement already satisfied: attrs>=17.3.0 in c:\\users\\sophi\\ironhack\\ironhack\\ironhack_prework_jupyter\\practice\\practice_venv\\lib\\site-packages (from aiohttp!=4.0.0a0,!=4.0.0a1->fsspec[http]<2025.0,>=2022.5.0->lightning<2.2,>=2.0->scvi-tools) (23.2.0)\n",
      "Requirement already satisfied: frozenlist>=1.1.1 in c:\\users\\sophi\\ironhack\\ironhack\\ironhack_prework_jupyter\\practice\\practice_venv\\lib\\site-packages (from aiohttp!=4.0.0a0,!=4.0.0a1->fsspec[http]<2025.0,>=2022.5.0->lightning<2.2,>=2.0->scvi-tools) (1.4.1)\n",
      "Requirement already satisfied: multidict<7.0,>=4.5 in c:\\users\\sophi\\ironhack\\ironhack\\ironhack_prework_jupyter\\practice\\practice_venv\\lib\\site-packages (from aiohttp!=4.0.0a0,!=4.0.0a1->fsspec[http]<2025.0,>=2022.5.0->lightning<2.2,>=2.0->scvi-tools) (6.0.5)\n",
      "Requirement already satisfied: yarl<2.0,>=1.0 in c:\\users\\sophi\\ironhack\\ironhack\\ironhack_prework_jupyter\\practice\\practice_venv\\lib\\site-packages (from aiohttp!=4.0.0a0,!=4.0.0a1->fsspec[http]<2025.0,>=2022.5.0->lightning<2.2,>=2.0->scvi-tools) (1.9.4)\n",
      "Requirement already satisfied: importlib_resources in c:\\users\\sophi\\ironhack\\ironhack\\ironhack_prework_jupyter\\practice\\practice_venv\\lib\\site-packages (from etils[epath,epy]->orbax-checkpoint->flax->scvi-tools) (6.4.0)\n",
      "Requirement already satisfied: zipp in c:\\users\\sophi\\ironhack\\ironhack\\ironhack_prework_jupyter\\practice\\practice_venv\\lib\\site-packages (from etils[epath,epy]->orbax-checkpoint->flax->scvi-tools) (3.18.1)\n",
      "Requirement already satisfied: idna>=2.0 in c:\\users\\sophi\\ironhack\\ironhack\\ironhack_prework_jupyter\\practice\\practice_venv\\lib\\site-packages (from yarl<2.0,>=1.0->aiohttp!=4.0.0a0,!=4.0.0a1->fsspec[http]<2025.0,>=2022.5.0->lightning<2.2,>=2.0->scvi-tools) (3.7)\n"
     ]
    }
   ],
   "source": [
    "#pip install scvi-tools"
   ]
  },
  {
   "cell_type": "code",
   "execution_count": 4,
   "id": "0d7589b6-0a73-49b6-9547-8e704d7761af",
   "metadata": {},
   "outputs": [],
   "source": [
    "import scvi"
   ]
  },
  {
   "cell_type": "code",
   "execution_count": 6,
   "id": "4f756a1f-8766-4272-bb1f-d7de143b4bdf",
   "metadata": {},
   "outputs": [],
   "source": [
    "sc.pp.filter_genes(adata, min_cells = 10)"
   ]
  },
  {
   "cell_type": "code",
   "execution_count": 5,
   "id": "b664e414-7a70-4692-b1dd-5cc390bf8fce",
   "metadata": {},
   "outputs": [
    {
     "data": {
      "text/plain": [
       "AnnData object with n_obs × n_vars = 6099 × 34546"
      ]
     },
     "execution_count": 5,
     "metadata": {},
     "output_type": "execute_result"
    }
   ],
   "source": [
    "adata"
   ]
  },
  {
   "cell_type": "code",
   "execution_count": 6,
   "id": "6b0aa2ca-a209-4c2c-b784-a8b831e51e6f",
   "metadata": {},
   "outputs": [],
   "source": [
    "sc.pp.filter_genes(adata, min_cells = 10)"
   ]
  },
  {
   "cell_type": "code",
   "execution_count": null,
   "id": "9697e133-eda8-4549-b1b9-21d6a9f4688a",
   "metadata": {},
   "outputs": [],
   "source": [
    "#pip install sklearn"
   ]
  },
  {
   "cell_type": "code",
   "execution_count": 10,
   "id": "7aa0e96a-cd46-47ce-9332-1499ed37e8c6",
   "metadata": {},
   "outputs": [],
   "source": [
    "sc.pp.highly_variable_genes(adata, n_top_genes = 2000, subset = True, flavor = 'seurat_v3')"
   ]
  },
  {
   "cell_type": "code",
   "execution_count": 9,
   "id": "457fafed-1951-40f7-abcf-123ba1e08fa5",
   "metadata": {},
   "outputs": [
    {
     "name": "stdout",
     "output_type": "stream",
     "text": [
      "Collecting scikit-misc\n",
      "  Downloading scikit_misc-0.3.1-cp311-cp311-win_amd64.whl.metadata (4.9 kB)\n",
      "Requirement already satisfied: numpy>=1.22.3 in c:\\users\\sophi\\ironhack\\ironhack\\ironhack_prework_jupyter\\practice\\practice_venv\\lib\\site-packages (from scikit-misc) (1.26.4)\n",
      "Downloading scikit_misc-0.3.1-cp311-cp311-win_amd64.whl (10.0 MB)\n",
      "   ---------------------------------------- 0.0/10.0 MB ? eta -:--:--\n",
      "   ---------------------------------------- 0.0/10.0 MB ? eta -:--:--\n",
      "   ---------------------------------------- 0.0/10.0 MB ? eta -:--:--\n",
      "   ---------------------------------------- 0.1/10.0 MB 1.5 MB/s eta 0:00:07\n",
      "   - -------------------------------------- 0.4/10.0 MB 3.4 MB/s eta 0:00:03\n",
      "   -- ------------------------------------- 0.7/10.0 MB 4.1 MB/s eta 0:00:03\n",
      "   ---- ----------------------------------- 1.0/10.0 MB 4.9 MB/s eta 0:00:02\n",
      "   ---- ----------------------------------- 1.2/10.0 MB 4.9 MB/s eta 0:00:02\n",
      "   ------ --------------------------------- 1.6/10.0 MB 5.2 MB/s eta 0:00:02\n",
      "   ------- -------------------------------- 1.9/10.0 MB 5.7 MB/s eta 0:00:02\n",
      "   -------- ------------------------------- 2.1/10.0 MB 6.0 MB/s eta 0:00:02\n",
      "   --------- ------------------------------ 2.4/10.0 MB 5.5 MB/s eta 0:00:02\n",
      "   ---------- ----------------------------- 2.7/10.0 MB 5.7 MB/s eta 0:00:02\n",
      "   ----------- ---------------------------- 2.9/10.0 MB 5.6 MB/s eta 0:00:02\n",
      "   ------------- -------------------------- 3.3/10.0 MB 5.8 MB/s eta 0:00:02\n",
      "   -------------- ------------------------- 3.6/10.0 MB 5.9 MB/s eta 0:00:02\n",
      "   ---------------- ----------------------- 4.2/10.0 MB 6.4 MB/s eta 0:00:01\n",
      "   ------------------ --------------------- 4.5/10.0 MB 6.4 MB/s eta 0:00:01\n",
      "   -------------------- ------------------- 5.2/10.0 MB 6.8 MB/s eta 0:00:01\n",
      "   --------------------- ------------------ 5.5/10.0 MB 6.7 MB/s eta 0:00:01\n",
      "   ----------------------- ---------------- 6.0/10.0 MB 7.0 MB/s eta 0:00:01\n",
      "   ------------------------- -------------- 6.3/10.0 MB 7.0 MB/s eta 0:00:01\n",
      "   ----------------------------- ---------- 7.2/10.0 MB 7.6 MB/s eta 0:00:01\n",
      "   ----------------------------- ---------- 7.3/10.0 MB 7.7 MB/s eta 0:00:01\n",
      "   ------------------------------- -------- 7.8/10.0 MB 7.7 MB/s eta 0:00:01\n",
      "   -------------------------------- ------- 8.0/10.0 MB 7.8 MB/s eta 0:00:01\n",
      "   -------------------------------- ------- 8.0/10.0 MB 7.8 MB/s eta 0:00:01\n",
      "   -------------------------------- ------- 8.0/10.0 MB 7.8 MB/s eta 0:00:01\n",
      "   -------------------------------- ------- 8.2/10.0 MB 6.8 MB/s eta 0:00:01\n",
      "   --------------------------------- ------ 8.3/10.0 MB 6.6 MB/s eta 0:00:01\n",
      "   ---------------------------------- ----- 8.6/10.0 MB 6.5 MB/s eta 0:00:01\n",
      "   ------------------------------------ --- 9.1/10.0 MB 6.7 MB/s eta 0:00:01\n",
      "   ------------------------------------- -- 9.4/10.0 MB 6.9 MB/s eta 0:00:01\n",
      "   ------------------------------------- -- 9.4/10.0 MB 6.9 MB/s eta 0:00:01\n",
      "   ---------------------------------------  9.9/10.0 MB 6.7 MB/s eta 0:00:01\n",
      "   ---------------------------------------- 10.0/10.0 MB 6.5 MB/s eta 0:00:00\n",
      "Installing collected packages: scikit-misc\n",
      "Successfully installed scikit-misc-0.3.1\n",
      "Note: you may need to restart the kernel to use updated packages.\n"
     ]
    }
   ],
   "source": [
    "pip install scikit-misc"
   ]
  },
  {
   "cell_type": "code",
   "execution_count": null,
   "id": "ae75bf57-9ec2-4739-b542-d14a6edf3f47",
   "metadata": {},
   "outputs": [],
   "source": []
  }
 ],
 "metadata": {
  "kernelspec": {
   "display_name": "practice_venv",
   "language": "python",
   "name": "practice_venv"
  },
  "language_info": {
   "codemirror_mode": {
    "name": "ipython",
    "version": 3
   },
   "file_extension": ".py",
   "mimetype": "text/x-python",
   "name": "python",
   "nbconvert_exporter": "python",
   "pygments_lexer": "ipython3",
   "version": "3.11.5"
  }
 },
 "nbformat": 4,
 "nbformat_minor": 5
}
