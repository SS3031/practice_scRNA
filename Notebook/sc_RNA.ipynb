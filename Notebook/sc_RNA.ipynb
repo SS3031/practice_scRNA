{
 "cells": [
  {
   "cell_type": "code",
   "execution_count": 1,
   "id": "2f34a1ed-e83d-43f3-8d38-07263b879ad3",
   "metadata": {},
   "outputs": [],
   "source": [
    "import scanpy as sc"
   ]
  },
  {
   "cell_type": "code",
   "execution_count": 2,
   "id": "4bdf6c2c-7132-424b-9d93-606c0cb454bb",
   "metadata": {},
   "outputs": [
    {
     "data": {
      "text/plain": [
       "AnnData object with n_obs × n_vars = 6099 × 34546"
      ]
     },
     "execution_count": 2,
     "metadata": {},
     "output_type": "execute_result"
    }
   ],
   "source": [
    "adata = sc.read_csv('..practice/data/extracted/GSM5226574_C51ctr_raw_counts.csv').T\n",
    "adata\n"
   ]
  },
  {
   "cell_type": "code",
   "execution_count": 4,
   "id": "d0ba4dfb-81f0-4174-acf2-aaec5bc816b6",
   "metadata": {},
   "outputs": [
    {
     "data": {
      "text/plain": [
       "(6099, 34546)"
      ]
     },
     "execution_count": 4,
     "metadata": {},
     "output_type": "execute_result"
    }
   ],
   "source": [
    "adata.X.shape"
   ]
  },
  {
   "cell_type": "markdown",
   "id": "fcdb482a-9699-439a-a701-08c8ded44685",
   "metadata": {},
   "source": [
    "## Removing doublets from the dataset "
   ]
  },
  {
   "cell_type": "code",
   "execution_count": 5,
   "id": "0f1c0b3a-ee4f-4757-ab55-c7b1d8b2b1d2",
   "metadata": {},
   "outputs": [],
   "source": [
    "#pip install scvi-tools"
   ]
  },
  {
   "cell_type": "code",
   "execution_count": 6,
   "id": "0d7589b6-0a73-49b6-9547-8e704d7761af",
   "metadata": {},
   "outputs": [],
   "source": [
    "import scvi"
   ]
  },
  {
   "cell_type": "code",
   "execution_count": 7,
   "id": "4f756a1f-8766-4272-bb1f-d7de143b4bdf",
   "metadata": {},
   "outputs": [],
   "source": [
    "sc.pp.filter_genes(adata, min_cells = 10)"
   ]
  },
  {
   "cell_type": "code",
   "execution_count": 8,
   "id": "b664e414-7a70-4692-b1dd-5cc390bf8fce",
   "metadata": {},
   "outputs": [
    {
     "data": {
      "text/plain": [
       "AnnData object with n_obs × n_vars = 6099 × 19896\n",
       "    var: 'n_cells'"
      ]
     },
     "execution_count": 8,
     "metadata": {},
     "output_type": "execute_result"
    }
   ],
   "source": [
    "adata"
   ]
  },
  {
   "cell_type": "code",
   "execution_count": 9,
   "id": "6b0aa2ca-a209-4c2c-b784-a8b831e51e6f",
   "metadata": {},
   "outputs": [],
   "source": [
    "sc.pp.filter_genes(adata, min_cells = 10)"
   ]
  },
  {
   "cell_type": "code",
   "execution_count": 10,
   "id": "9697e133-eda8-4549-b1b9-21d6a9f4688a",
   "metadata": {},
   "outputs": [],
   "source": [
    "#pip install sklearn"
   ]
  },
  {
   "cell_type": "code",
   "execution_count": 11,
   "id": "7aa0e96a-cd46-47ce-9332-1499ed37e8c6",
   "metadata": {},
   "outputs": [],
   "source": []
  },
  {
   "cell_type": "code",
   "execution_count": 12,
   "id": "457fafed-1951-40f7-abcf-123ba1e08fa5",
   "metadata": {},
   "outputs": [
    {
     "name": "stdout",
     "output_type": "stream",
     "text": [
      "Requirement already satisfied: scikit-misc in c:\\users\\sophi\\ironhack\\ironhack\\ironhack_prework_jupyter\\practice\\practice_venv\\lib\\site-packages (0.3.1)Note: you may need to restart the kernel to use updated packages.\n",
      "\n",
      "Requirement already satisfied: numpy>=1.22.3 in c:\\users\\sophi\\ironhack\\ironhack\\ironhack_prework_jupyter\\practice\\practice_venv\\lib\\site-packages (from scikit-misc) (1.26.4)\n"
     ]
    }
   ],
   "source": [
    "pip install scikit-misc"
   ]
  },
  {
   "cell_type": "code",
   "execution_count": 13,
   "id": "ae75bf57-9ec2-4739-b542-d14a6edf3f47",
   "metadata": {},
   "outputs": [],
   "source": [
    "sc.pp.highly_variable_genes(adata, n_top_genes = 2000, subset = True, flavor = 'seurat_v3')"
   ]
  },
  {
   "cell_type": "code",
   "execution_count": 15,
   "id": "3d34460b-0a10-4811-a2f0-2d0e5d5b1639",
   "metadata": {},
   "outputs": [
    {
     "data": {
      "text/plain": [
       "AnnData object with n_obs × n_vars = 6099 × 2000\n",
       "    obs: '_scvi_batch', '_scvi_labels'\n",
       "    var: 'n_cells', 'highly_variable', 'highly_variable_rank', 'means', 'variances', 'variances_norm'\n",
       "    uns: 'hvg', '_scvi_uuid', '_scvi_manager_uuid'"
      ]
     },
     "execution_count": 15,
     "metadata": {},
     "output_type": "execute_result"
    }
   ],
   "source": [
    "adata"
   ]
  },
  {
   "cell_type": "code",
   "execution_count": 14,
   "id": "09229314-9d5b-4725-bfe1-4cbfff01b220",
   "metadata": {},
   "outputs": [
    {
     "name": "stderr",
     "output_type": "stream",
     "text": [
      "GPU available: False, used: False\n",
      "TPU available: False, using: 0 TPU cores\n",
      "IPU available: False, using: 0 IPUs\n",
      "HPU available: False, using: 0 HPUs\n",
      "C:\\Users\\sophi\\Ironhack\\Ironhack\\Ironhack_prework_Jupyter\\practice\\practice_venv\\Lib\\site-packages\\lightning\\pytorch\\trainer\\connectors\\data_connector.py:441: The 'train_dataloader' does not have many workers which may be a bottleneck. Consider increasing the value of the `num_workers` argument` to `num_workers=7` in the `DataLoader` to improve performance.\n"
     ]
    },
    {
     "name": "stdout",
     "output_type": "stream",
     "text": [
      "Epoch 400/400: 100%|█████████████| 400/400 [45:44<00:00,  6.67s/it, v_num=1, train_loss_step=333, train_loss_epoch=322]"
     ]
    },
    {
     "name": "stderr",
     "output_type": "stream",
     "text": [
      "`Trainer.fit` stopped: `max_epochs=400` reached.\n"
     ]
    },
    {
     "name": "stdout",
     "output_type": "stream",
     "text": [
      "Epoch 400/400: 100%|█████████████| 400/400 [45:44<00:00,  6.86s/it, v_num=1, train_loss_step=333, train_loss_epoch=322]\n"
     ]
    }
   ],
   "source": [
    "scvi.model.SCVI.setup_anndata(adata)\n",
    "vae = scvi.model.SCVI(adata)\n",
    "vae.train()"
   ]
  },
  {
   "cell_type": "code",
   "execution_count": 17,
   "id": "1fdbb9da-ad60-49e1-8767-a40f3634bd2b",
   "metadata": {},
   "outputs": [
    {
     "name": "stdout",
     "output_type": "stream",
     "text": [
      "\u001b[34mINFO    \u001b[0m Creating doublets, preparing SOLO model.                                                                  \n"
     ]
    },
    {
     "name": "stderr",
     "output_type": "stream",
     "text": [
      "GPU available: False, used: False\n",
      "TPU available: False, using: 0 TPU cores\n",
      "IPU available: False, using: 0 IPUs\n",
      "HPU available: False, using: 0 HPUs\n",
      "C:\\Users\\sophi\\Ironhack\\Ironhack\\Ironhack_prework_Jupyter\\practice\\practice_venv\\Lib\\site-packages\\lightning\\pytorch\\trainer\\connectors\\data_connector.py:441: The 'train_dataloader' does not have many workers which may be a bottleneck. Consider increasing the value of the `num_workers` argument` to `num_workers=7` in the `DataLoader` to improve performance.\n",
      "C:\\Users\\sophi\\Ironhack\\Ironhack\\Ironhack_prework_Jupyter\\practice\\practice_venv\\Lib\\site-packages\\lightning\\pytorch\\trainer\\connectors\\data_connector.py:441: The 'val_dataloader' does not have many workers which may be a bottleneck. Consider increasing the value of the `num_workers` argument` to `num_workers=7` in the `DataLoader` to improve performance.\n"
     ]
    },
    {
     "name": "stdout",
     "output_type": "stream",
     "text": [
      "Epoch 400/400: 100%|█████████| 400/400 [08:29<00:00,  1.26s/it, v_num=1, train_loss_step=0.347, train_loss_epoch=0.293]"
     ]
    },
    {
     "name": "stderr",
     "output_type": "stream",
     "text": [
      "`Trainer.fit` stopped: `max_epochs=400` reached.\n"
     ]
    },
    {
     "name": "stdout",
     "output_type": "stream",
     "text": [
      "Epoch 400/400: 100%|█████████| 400/400 [08:29<00:00,  1.27s/it, v_num=1, train_loss_step=0.347, train_loss_epoch=0.293]\n"
     ]
    }
   ],
   "source": [
    "solo = scvi.external.SOLO.from_scvi_model(vae)\n",
    "solo.train()"
   ]
  },
  {
   "cell_type": "code",
   "execution_count": 18,
   "id": "e2564848-6bf1-4be0-a8bf-cf5e86fc2d44",
   "metadata": {},
   "outputs": [
    {
     "data": {
      "text/html": [
       "<div>\n",
       "<style scoped>\n",
       "    .dataframe tbody tr th:only-of-type {\n",
       "        vertical-align: middle;\n",
       "    }\n",
       "\n",
       "    .dataframe tbody tr th {\n",
       "        vertical-align: top;\n",
       "    }\n",
       "\n",
       "    .dataframe thead th {\n",
       "        text-align: right;\n",
       "    }\n",
       "</style>\n",
       "<table border=\"1\" class=\"dataframe\">\n",
       "  <thead>\n",
       "    <tr style=\"text-align: right;\">\n",
       "      <th></th>\n",
       "      <th>doublet</th>\n",
       "      <th>singlet</th>\n",
       "      <th>prediction</th>\n",
       "    </tr>\n",
       "  </thead>\n",
       "  <tbody>\n",
       "    <tr>\n",
       "      <th>TAGGTACCATGGCCAC-1</th>\n",
       "      <td>0.780306</td>\n",
       "      <td>-1.577738</td>\n",
       "      <td>doublet</td>\n",
       "    </tr>\n",
       "    <tr>\n",
       "      <th>ATTCACTGTAACAGGC-1</th>\n",
       "      <td>1.049220</td>\n",
       "      <td>-1.373049</td>\n",
       "      <td>doublet</td>\n",
       "    </tr>\n",
       "    <tr>\n",
       "      <th>TAACTTCCAACCACGC-1</th>\n",
       "      <td>-0.052407</td>\n",
       "      <td>-2.055022</td>\n",
       "      <td>doublet</td>\n",
       "    </tr>\n",
       "    <tr>\n",
       "      <th>TTGGGTACACGACAAG-1</th>\n",
       "      <td>0.699265</td>\n",
       "      <td>-1.083211</td>\n",
       "      <td>doublet</td>\n",
       "    </tr>\n",
       "    <tr>\n",
       "      <th>AGGCCACAGAGTCACG-1</th>\n",
       "      <td>0.573807</td>\n",
       "      <td>-0.663198</td>\n",
       "      <td>doublet</td>\n",
       "    </tr>\n",
       "    <tr>\n",
       "      <th>...</th>\n",
       "      <td>...</td>\n",
       "      <td>...</td>\n",
       "      <td>...</td>\n",
       "    </tr>\n",
       "    <tr>\n",
       "      <th>CGCCATTGTTTGCCGG-1</th>\n",
       "      <td>-1.588189</td>\n",
       "      <td>1.707996</td>\n",
       "      <td>singlet</td>\n",
       "    </tr>\n",
       "    <tr>\n",
       "      <th>CACTGGGGTCTACGTA-1</th>\n",
       "      <td>-2.598346</td>\n",
       "      <td>3.126334</td>\n",
       "      <td>singlet</td>\n",
       "    </tr>\n",
       "    <tr>\n",
       "      <th>CATACTTGTAGAGGAA-1</th>\n",
       "      <td>-2.685671</td>\n",
       "      <td>2.377460</td>\n",
       "      <td>singlet</td>\n",
       "    </tr>\n",
       "    <tr>\n",
       "      <th>TTTGGTTTCCACGGAC-1</th>\n",
       "      <td>-2.729781</td>\n",
       "      <td>3.038041</td>\n",
       "      <td>singlet</td>\n",
       "    </tr>\n",
       "    <tr>\n",
       "      <th>ATGCATGAGTCATGAA-1</th>\n",
       "      <td>-2.065248</td>\n",
       "      <td>2.450170</td>\n",
       "      <td>singlet</td>\n",
       "    </tr>\n",
       "  </tbody>\n",
       "</table>\n",
       "<p>6099 rows × 3 columns</p>\n",
       "</div>"
      ],
      "text/plain": [
       "                     doublet   singlet prediction\n",
       "TAGGTACCATGGCCAC-1  0.780306 -1.577738    doublet\n",
       "ATTCACTGTAACAGGC-1  1.049220 -1.373049    doublet\n",
       "TAACTTCCAACCACGC-1 -0.052407 -2.055022    doublet\n",
       "TTGGGTACACGACAAG-1  0.699265 -1.083211    doublet\n",
       "AGGCCACAGAGTCACG-1  0.573807 -0.663198    doublet\n",
       "...                      ...       ...        ...\n",
       "CGCCATTGTTTGCCGG-1 -1.588189  1.707996    singlet\n",
       "CACTGGGGTCTACGTA-1 -2.598346  3.126334    singlet\n",
       "CATACTTGTAGAGGAA-1 -2.685671  2.377460    singlet\n",
       "TTTGGTTTCCACGGAC-1 -2.729781  3.038041    singlet\n",
       "ATGCATGAGTCATGAA-1 -2.065248  2.450170    singlet\n",
       "\n",
       "[6099 rows x 3 columns]"
      ]
     },
     "execution_count": 18,
     "metadata": {},
     "output_type": "execute_result"
    }
   ],
   "source": [
    "df = solo.predict()\n",
    "df['prediction'] = solo.predict(soft = False)\n",
    "\n",
    "df.index = df.index.map(lambda x: x[:-2])\n",
    "\n",
    "df"
   ]
  },
  {
   "cell_type": "code",
   "execution_count": 19,
   "id": "52f0e5b3-5a22-41fa-b94c-d53fba036818",
   "metadata": {},
   "outputs": [
    {
     "data": {
      "text/html": [
       "<div>\n",
       "<style scoped>\n",
       "    .dataframe tbody tr th:only-of-type {\n",
       "        vertical-align: middle;\n",
       "    }\n",
       "\n",
       "    .dataframe tbody tr th {\n",
       "        vertical-align: top;\n",
       "    }\n",
       "\n",
       "    .dataframe thead th {\n",
       "        text-align: right;\n",
       "    }\n",
       "</style>\n",
       "<table border=\"1\" class=\"dataframe\">\n",
       "  <thead>\n",
       "    <tr style=\"text-align: right;\">\n",
       "      <th></th>\n",
       "      <th>doublet</th>\n",
       "      <th>singlet</th>\n",
       "    </tr>\n",
       "    <tr>\n",
       "      <th>prediction</th>\n",
       "      <th></th>\n",
       "      <th></th>\n",
       "    </tr>\n",
       "  </thead>\n",
       "  <tbody>\n",
       "    <tr>\n",
       "      <th>doublet</th>\n",
       "      <td>1247</td>\n",
       "      <td>1247</td>\n",
       "    </tr>\n",
       "    <tr>\n",
       "      <th>singlet</th>\n",
       "      <td>4852</td>\n",
       "      <td>4852</td>\n",
       "    </tr>\n",
       "  </tbody>\n",
       "</table>\n",
       "</div>"
      ],
      "text/plain": [
       "            doublet  singlet\n",
       "prediction                  \n",
       "doublet        1247     1247\n",
       "singlet        4852     4852"
      ]
     },
     "execution_count": 19,
     "metadata": {},
     "output_type": "execute_result"
    }
   ],
   "source": [
    "df.groupby('prediction').count()"
   ]
  },
  {
   "cell_type": "code",
   "execution_count": 20,
   "id": "913eead6-8386-40de-b115-53cf2c4878b1",
   "metadata": {},
   "outputs": [
    {
     "data": {
      "text/html": [
       "<div>\n",
       "<style scoped>\n",
       "    .dataframe tbody tr th:only-of-type {\n",
       "        vertical-align: middle;\n",
       "    }\n",
       "\n",
       "    .dataframe tbody tr th {\n",
       "        vertical-align: top;\n",
       "    }\n",
       "\n",
       "    .dataframe thead th {\n",
       "        text-align: right;\n",
       "    }\n",
       "</style>\n",
       "<table border=\"1\" class=\"dataframe\">\n",
       "  <thead>\n",
       "    <tr style=\"text-align: right;\">\n",
       "      <th></th>\n",
       "      <th>doublet</th>\n",
       "      <th>singlet</th>\n",
       "      <th>prediction</th>\n",
       "      <th>dif</th>\n",
       "    </tr>\n",
       "  </thead>\n",
       "  <tbody>\n",
       "    <tr>\n",
       "      <th>TAGGTACCATGGCCAC-1</th>\n",
       "      <td>0.780306</td>\n",
       "      <td>-1.577738</td>\n",
       "      <td>doublet</td>\n",
       "      <td>2.358044</td>\n",
       "    </tr>\n",
       "    <tr>\n",
       "      <th>ATTCACTGTAACAGGC-1</th>\n",
       "      <td>1.049220</td>\n",
       "      <td>-1.373049</td>\n",
       "      <td>doublet</td>\n",
       "      <td>2.422268</td>\n",
       "    </tr>\n",
       "    <tr>\n",
       "      <th>TAACTTCCAACCACGC-1</th>\n",
       "      <td>-0.052407</td>\n",
       "      <td>-2.055022</td>\n",
       "      <td>doublet</td>\n",
       "      <td>2.002616</td>\n",
       "    </tr>\n",
       "    <tr>\n",
       "      <th>TTGGGTACACGACAAG-1</th>\n",
       "      <td>0.699265</td>\n",
       "      <td>-1.083211</td>\n",
       "      <td>doublet</td>\n",
       "      <td>1.782476</td>\n",
       "    </tr>\n",
       "    <tr>\n",
       "      <th>AGGCCACAGAGTCACG-1</th>\n",
       "      <td>0.573807</td>\n",
       "      <td>-0.663198</td>\n",
       "      <td>doublet</td>\n",
       "      <td>1.237005</td>\n",
       "    </tr>\n",
       "    <tr>\n",
       "      <th>...</th>\n",
       "      <td>...</td>\n",
       "      <td>...</td>\n",
       "      <td>...</td>\n",
       "      <td>...</td>\n",
       "    </tr>\n",
       "    <tr>\n",
       "      <th>CGCCATTGTTTGCCGG-1</th>\n",
       "      <td>-1.588189</td>\n",
       "      <td>1.707996</td>\n",
       "      <td>singlet</td>\n",
       "      <td>-3.296186</td>\n",
       "    </tr>\n",
       "    <tr>\n",
       "      <th>CACTGGGGTCTACGTA-1</th>\n",
       "      <td>-2.598346</td>\n",
       "      <td>3.126334</td>\n",
       "      <td>singlet</td>\n",
       "      <td>-5.724680</td>\n",
       "    </tr>\n",
       "    <tr>\n",
       "      <th>CATACTTGTAGAGGAA-1</th>\n",
       "      <td>-2.685671</td>\n",
       "      <td>2.377460</td>\n",
       "      <td>singlet</td>\n",
       "      <td>-5.063132</td>\n",
       "    </tr>\n",
       "    <tr>\n",
       "      <th>TTTGGTTTCCACGGAC-1</th>\n",
       "      <td>-2.729781</td>\n",
       "      <td>3.038041</td>\n",
       "      <td>singlet</td>\n",
       "      <td>-5.767822</td>\n",
       "    </tr>\n",
       "    <tr>\n",
       "      <th>ATGCATGAGTCATGAA-1</th>\n",
       "      <td>-2.065248</td>\n",
       "      <td>2.450170</td>\n",
       "      <td>singlet</td>\n",
       "      <td>-4.515418</td>\n",
       "    </tr>\n",
       "  </tbody>\n",
       "</table>\n",
       "<p>6099 rows × 4 columns</p>\n",
       "</div>"
      ],
      "text/plain": [
       "                     doublet   singlet prediction       dif\n",
       "TAGGTACCATGGCCAC-1  0.780306 -1.577738    doublet  2.358044\n",
       "ATTCACTGTAACAGGC-1  1.049220 -1.373049    doublet  2.422268\n",
       "TAACTTCCAACCACGC-1 -0.052407 -2.055022    doublet  2.002616\n",
       "TTGGGTACACGACAAG-1  0.699265 -1.083211    doublet  1.782476\n",
       "AGGCCACAGAGTCACG-1  0.573807 -0.663198    doublet  1.237005\n",
       "...                      ...       ...        ...       ...\n",
       "CGCCATTGTTTGCCGG-1 -1.588189  1.707996    singlet -3.296186\n",
       "CACTGGGGTCTACGTA-1 -2.598346  3.126334    singlet -5.724680\n",
       "CATACTTGTAGAGGAA-1 -2.685671  2.377460    singlet -5.063132\n",
       "TTTGGTTTCCACGGAC-1 -2.729781  3.038041    singlet -5.767822\n",
       "ATGCATGAGTCATGAA-1 -2.065248  2.450170    singlet -4.515418\n",
       "\n",
       "[6099 rows x 4 columns]"
      ]
     },
     "execution_count": 20,
     "metadata": {},
     "output_type": "execute_result"
    }
   ],
   "source": [
    "df['dif'] = df.doublet - df.singlet\n",
    "df"
   ]
  },
  {
   "cell_type": "code",
   "execution_count": 21,
   "id": "d890edb4-be22-494a-a873-3a044de066d5",
   "metadata": {},
   "outputs": [],
   "source": [
    "import seaborn as sns"
   ]
  },
  {
   "cell_type": "code",
   "execution_count": 22,
   "id": "2ad96255-069f-4f19-8672-c2b2a56a2775",
   "metadata": {},
   "outputs": [
    {
     "data": {
      "text/plain": [
       "<seaborn.axisgrid.FacetGrid at 0x1f285e9ff90>"
      ]
     },
     "execution_count": 22,
     "metadata": {},
     "output_type": "execute_result"
    },
    {
     "data": {
      "image/png": "[encoded data removed]",
      "text/plain": [
       "<Figure size 500x500 with 1 Axes>"
      ]
     },
     "metadata": {},
     "output_type": "display_data"
    }
   ],
   "source": [
    "sns.displot(df[df.prediction == 'doublet'], x = 'dif')"
   ]
  },
  {
   "cell_type": "code",
   "execution_count": null,
   "id": "18a68894-5bb3-4604-8fc7-834f63925c65",
   "metadata": {},
   "outputs": [],
   "source": []
  }
 ],
 "metadata": {
  "kernelspec": {
   "display_name": "practice_venv",
   "language": "python",
   "name": "practice_venv"
  },
  "language_info": {
   "codemirror_mode": {
    "name": "ipython",
    "version": 3
   },
   "file_extension": ".py",
   "mimetype": "text/x-python",
   "name": "python",
   "nbconvert_exporter": "python",
   "pygments_lexer": "ipython3",
   "version": "3.11.5"
  }
 },
 "nbformat": 4,
 "nbformat_minor": 5
}
