{
 "cells": [
  {
   "cell_type": "code",
   "execution_count": 1,
   "id": "efa67ccc-0103-4b2d-adde-8abb56f56b6d",
   "metadata": {},
   "outputs": [],
   "source": [
    "import scanpy as sc"
   ]
  },
  {
   "cell_type": "code",
   "execution_count": 4,
   "id": "93d6d041-1a31-4eeb-a215-f0da21316670",
   "metadata": {},
   "outputs": [
    {
     "name": "stdout",
     "output_type": "stream",
     "text": [
      "Control.NH227\tTGFÎ².NH227\tTGFÎ²Adropin.NH227\tControl.NH173\tTGFÎ².NH173\tTGFÎ²Adropin.NH173\tControl.NH172\tTGFÎ².NH172\tTGFÎ²Adropin.NH172\tgene_name\n",
      "\n"
     ]
    }
   ],
   "source": [
    "# Open the CSV file and read the first line\n",
    "with open('C:/Users/sophi/Ironhack/Ironhack/Ironhack_prework_Jupyter/practice/other_datasets/GSE252425_minruidata_rawcount.csv', 'r') as file:\n",
    "    first_line = file.readline()\n",
    "\n",
    "print(first_line)\n"
   ]
  },
  {
   "cell_type": "code",
   "execution_count": 6,
   "id": "77e50bf7-e913-4c69-af5f-0bb2a905b56a",
   "metadata": {},
   "outputs": [
    {
     "name": "stdout",
     "output_type": "stream",
     "text": [
      "Control.NH227\tTGFÎ².NH227\tTGFÎ²Adropin.NH227\tControl.NH173\tTGFÎ².NH173\tTGFÎ²Adropin.NH173\tControl.NH172\tTGFÎ².NH172\tTGFÎ²Adropin.NH172\tgene_name\n",
      "\n",
      "ENSG00000223972\t0\t0\t0\t0\t0\t0\t0\t0\t0\tDDX11L1\n",
      "\n",
      "ENSG00000227232\t169\t157\t154\t73\t53\t105\t47\t58\t42\tWASH7P\n",
      "\n",
      "ENSG00000278267\t17\t19\t9\t10\t3\t15\t18\t9\t4\tMIR6859-1\n",
      "\n",
      "ENSG00000243485\t3\t1\t2\t0\t0\t0\t7\t2\t1\tMIR1302-2HG\n",
      "\n"
     ]
    }
   ],
   "source": [
    "# Open the CSV file\n",
    "with open('C:/Users/sophi/Ironhack/Ironhack/Ironhack_prework_Jupyter/practice/other_datasets/GSE252425_minruidata_rawcount.csv', 'r') as file:\n",
    "    # Read the first five lines\n",
    "    for i in range(5):\n",
    "        line = file.readline()\n",
    "        print(line)"
   ]
  },
  {
   "cell_type": "code",
   "execution_count": 7,
   "id": "eed8a508-ec6c-49b8-b07a-f2e0db69f2c3",
   "metadata": {},
   "outputs": [
    {
     "name": "stdout",
     "output_type": "stream",
     "text": [
      "AnnData object with n_obs × n_vars = 10 × 58735\n"
     ]
    }
   ],
   "source": [
    "import scanpy as sc\n",
    "\n",
    "# Read the CSV file, treating all data as strings\n",
    "adata = sc.read_csv('C:/Users/sophi/Ironhack/Ironhack/Ironhack_prework_Jupyter/practice/other_datasets/GSE252425_minruidata_rawcount.csv', delimiter='\\t', first_column_names=False, dtype=None).T\n",
    "\n",
    "# Display the data\n",
    "print(adata)"
   ]
  },
  {
   "cell_type": "code",
   "execution_count": 8,
   "id": "8cd68fff-fa45-4ea7-8a05-353188e2992a",
   "metadata": {},
   "outputs": [
    {
     "name": "stdout",
     "output_type": "stream",
     "text": [
      "First few rows of observations:\n",
      "Empty DataFrame\n",
      "Columns: []\n",
      "Index: [Control.NH227, TGFÎ².NH227, TGFÎ²Adropin.NH227, Control.NH173, TGFÎ².NH173]\n",
      "\n",
      "First few rows of variables:\n",
      "Empty DataFrame\n",
      "Columns: []\n",
      "Index: [ENSG00000223972, ENSG00000227232, ENSG00000278267, ENSG00000243485, ENSG00000284332]\n"
     ]
    }
   ],
   "source": [
    "# View the first few rows of observations\n",
    "print(\"First few rows of observations:\")\n",
    "print(adata.obs.head())\n",
    "\n",
    "# View the first few rows of variables\n",
    "print(\"\\nFirst few rows of variables:\")\n",
    "print(adata.var.head())"
   ]
  },
  {
   "cell_type": "code",
   "execution_count": null,
   "id": "37e83023-34c1-4194-8888-066118efdf7f",
   "metadata": {},
   "outputs": [],
   "source": []
  }
 ],
 "metadata": {
  "kernelspec": {
   "display_name": "practice_venv",
   "language": "python",
   "name": "practice_venv"
  },
  "language_info": {
   "codemirror_mode": {
    "name": "ipython",
    "version": 3
   },
   "file_extension": ".py",
   "mimetype": "text/x-python",
   "name": "python",
   "nbconvert_exporter": "python",
   "pygments_lexer": "ipython3",
   "version": "3.11.5"
  }
 },
 "nbformat": 4,
 "nbformat_minor": 5
}
